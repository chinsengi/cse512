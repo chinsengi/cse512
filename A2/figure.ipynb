{
 "cells": [
  {
   "cell_type": "code",
   "execution_count": 1,
   "id": "274b4958",
   "metadata": {},
   "outputs": [
    {
     "data": {
      "text/plain": [
       "'/home/sengi/.local/lib/python3.10/site-packages/chromedriver_autoinstaller/112/chromedriver'"
      ]
     },
     "execution_count": 1,
     "metadata": {},
     "output_type": "execute_result"
    }
   ],
   "source": [
    "import pandas as pd\n",
    "import altair as alt\n",
    "from altair_saver import save\n",
    "import chromedriver_autoinstaller as ca\n",
    "ca.install()"
   ]
  },
  {
   "cell_type": "code",
   "execution_count": 2,
   "id": "d33d8715",
   "metadata": {},
   "outputs": [],
   "source": [
    "file_path = \"./data.csv\"\n",
    "df = pd.read_csv(file_path)"
   ]
  },
  {
   "cell_type": "code",
   "execution_count": 3,
   "id": "0726eb84",
   "metadata": {},
   "outputs": [
    {
     "data": {
      "text/html": [
       "<div>\n",
       "<style scoped>\n",
       "    .dataframe tbody tr th:only-of-type {\n",
       "        vertical-align: middle;\n",
       "    }\n",
       "\n",
       "    .dataframe tbody tr th {\n",
       "        vertical-align: top;\n",
       "    }\n",
       "\n",
       "    .dataframe thead th {\n",
       "        text-align: right;\n",
       "    }\n",
       "</style>\n",
       "<table border=\"1\" class=\"dataframe\">\n",
       "  <thead>\n",
       "    <tr style=\"text-align: right;\">\n",
       "      <th></th>\n",
       "      <th>COU</th>\n",
       "      <th>Country</th>\n",
       "      <th>POL</th>\n",
       "      <th>Pollutant</th>\n",
       "      <th>VAR</th>\n",
       "      <th>Variable</th>\n",
       "      <th>YEA</th>\n",
       "      <th>Year</th>\n",
       "      <th>Unit Code</th>\n",
       "      <th>Unit</th>\n",
       "      <th>PowerCode Code</th>\n",
       "      <th>PowerCode</th>\n",
       "      <th>Reference Period Code</th>\n",
       "      <th>Reference Period</th>\n",
       "      <th>Value</th>\n",
       "      <th>Flag Codes</th>\n",
       "      <th>Flags</th>\n",
       "    </tr>\n",
       "  </thead>\n",
       "  <tbody>\n",
       "    <tr>\n",
       "      <th>0</th>\n",
       "      <td>AUS</td>\n",
       "      <td>Australia</td>\n",
       "      <td>GHG</td>\n",
       "      <td>Greenhouse gases</td>\n",
       "      <td>TOTAL</td>\n",
       "      <td>Total  emissions excluding LULUCF</td>\n",
       "      <td>1990</td>\n",
       "      <td>1990</td>\n",
       "      <td>T_CO2_EQVT</td>\n",
       "      <td>Tonnes of CO2 equivalent</td>\n",
       "      <td>3</td>\n",
       "      <td>Thousands</td>\n",
       "      <td>NaN</td>\n",
       "      <td>NaN</td>\n",
       "      <td>425624.307</td>\n",
       "      <td>NaN</td>\n",
       "      <td>NaN</td>\n",
       "    </tr>\n",
       "    <tr>\n",
       "      <th>1</th>\n",
       "      <td>AUS</td>\n",
       "      <td>Australia</td>\n",
       "      <td>GHG</td>\n",
       "      <td>Greenhouse gases</td>\n",
       "      <td>TOTAL</td>\n",
       "      <td>Total  emissions excluding LULUCF</td>\n",
       "      <td>1991</td>\n",
       "      <td>1991</td>\n",
       "      <td>T_CO2_EQVT</td>\n",
       "      <td>Tonnes of CO2 equivalent</td>\n",
       "      <td>3</td>\n",
       "      <td>Thousands</td>\n",
       "      <td>NaN</td>\n",
       "      <td>NaN</td>\n",
       "      <td>425686.445</td>\n",
       "      <td>NaN</td>\n",
       "      <td>NaN</td>\n",
       "    </tr>\n",
       "    <tr>\n",
       "      <th>2</th>\n",
       "      <td>AUS</td>\n",
       "      <td>Australia</td>\n",
       "      <td>GHG</td>\n",
       "      <td>Greenhouse gases</td>\n",
       "      <td>TOTAL</td>\n",
       "      <td>Total  emissions excluding LULUCF</td>\n",
       "      <td>1992</td>\n",
       "      <td>1992</td>\n",
       "      <td>T_CO2_EQVT</td>\n",
       "      <td>Tonnes of CO2 equivalent</td>\n",
       "      <td>3</td>\n",
       "      <td>Thousands</td>\n",
       "      <td>NaN</td>\n",
       "      <td>NaN</td>\n",
       "      <td>429473.085</td>\n",
       "      <td>NaN</td>\n",
       "      <td>NaN</td>\n",
       "    </tr>\n",
       "    <tr>\n",
       "      <th>3</th>\n",
       "      <td>AUS</td>\n",
       "      <td>Australia</td>\n",
       "      <td>GHG</td>\n",
       "      <td>Greenhouse gases</td>\n",
       "      <td>TOTAL</td>\n",
       "      <td>Total  emissions excluding LULUCF</td>\n",
       "      <td>1993</td>\n",
       "      <td>1993</td>\n",
       "      <td>T_CO2_EQVT</td>\n",
       "      <td>Tonnes of CO2 equivalent</td>\n",
       "      <td>3</td>\n",
       "      <td>Thousands</td>\n",
       "      <td>NaN</td>\n",
       "      <td>NaN</td>\n",
       "      <td>430381.731</td>\n",
       "      <td>NaN</td>\n",
       "      <td>NaN</td>\n",
       "    </tr>\n",
       "    <tr>\n",
       "      <th>4</th>\n",
       "      <td>AUS</td>\n",
       "      <td>Australia</td>\n",
       "      <td>GHG</td>\n",
       "      <td>Greenhouse gases</td>\n",
       "      <td>TOTAL</td>\n",
       "      <td>Total  emissions excluding LULUCF</td>\n",
       "      <td>1994</td>\n",
       "      <td>1994</td>\n",
       "      <td>T_CO2_EQVT</td>\n",
       "      <td>Tonnes of CO2 equivalent</td>\n",
       "      <td>3</td>\n",
       "      <td>Thousands</td>\n",
       "      <td>NaN</td>\n",
       "      <td>NaN</td>\n",
       "      <td>430848.498</td>\n",
       "      <td>NaN</td>\n",
       "      <td>NaN</td>\n",
       "    </tr>\n",
       "  </tbody>\n",
       "</table>\n",
       "</div>"
      ],
      "text/plain": [
       "   COU    Country  POL         Pollutant    VAR  \\\n",
       "0  AUS  Australia  GHG  Greenhouse gases  TOTAL   \n",
       "1  AUS  Australia  GHG  Greenhouse gases  TOTAL   \n",
       "2  AUS  Australia  GHG  Greenhouse gases  TOTAL   \n",
       "3  AUS  Australia  GHG  Greenhouse gases  TOTAL   \n",
       "4  AUS  Australia  GHG  Greenhouse gases  TOTAL   \n",
       "\n",
       "                            Variable   YEA  Year   Unit Code  \\\n",
       "0  Total  emissions excluding LULUCF  1990  1990  T_CO2_EQVT   \n",
       "1  Total  emissions excluding LULUCF  1991  1991  T_CO2_EQVT   \n",
       "2  Total  emissions excluding LULUCF  1992  1992  T_CO2_EQVT   \n",
       "3  Total  emissions excluding LULUCF  1993  1993  T_CO2_EQVT   \n",
       "4  Total  emissions excluding LULUCF  1994  1994  T_CO2_EQVT   \n",
       "\n",
       "                       Unit  PowerCode Code  PowerCode  Reference Period Code  \\\n",
       "0  Tonnes of CO2 equivalent               3  Thousands                    NaN   \n",
       "1  Tonnes of CO2 equivalent               3  Thousands                    NaN   \n",
       "2  Tonnes of CO2 equivalent               3  Thousands                    NaN   \n",
       "3  Tonnes of CO2 equivalent               3  Thousands                    NaN   \n",
       "4  Tonnes of CO2 equivalent               3  Thousands                    NaN   \n",
       "\n",
       "   Reference Period       Value Flag Codes Flags  \n",
       "0               NaN  425624.307        NaN   NaN  \n",
       "1               NaN  425686.445        NaN   NaN  \n",
       "2               NaN  429473.085        NaN   NaN  \n",
       "3               NaN  430381.731        NaN   NaN  \n",
       "4               NaN  430848.498        NaN   NaN  "
      ]
     },
     "execution_count": 3,
     "metadata": {},
     "output_type": "execute_result"
    }
   ],
   "source": [
    "df.head()\n"
   ]
  },
  {
   "cell_type": "code",
   "execution_count": 4,
   "id": "f1743344",
   "metadata": {},
   "outputs": [
    {
     "data": {
      "text/plain": [
       "array(['Greenhouse gases', 'Carbon dioxide', 'Methane', 'Nitrous oxide',\n",
       "       'Hydrofluorocarbons', 'Perfluorocarbons', 'Sulphur hexafluoride',\n",
       "       'Nitrogen trifluoride', 'Unspecified mix of HFCs and PFCs'],\n",
       "      dtype=object)"
      ]
     },
     "execution_count": 4,
     "metadata": {},
     "output_type": "execute_result"
    }
   ],
   "source": [
    "df['Pollutant'].unique()"
   ]
  },
  {
   "cell_type": "code",
   "execution_count": 5,
   "id": "b92ab507",
   "metadata": {},
   "outputs": [
    {
     "data": {
      "text/plain": [
       "63"
      ]
     },
     "execution_count": 5,
     "metadata": {},
     "output_type": "execute_result"
    }
   ],
   "source": [
    "tmp = df[df[\"Country\"].str.contains(\"China\")]\n",
    "tmp[\"Year\"].unique()\n",
    "len(df[\"COU\"].unique())"
   ]
  },
  {
   "cell_type": "code",
   "execution_count": 6,
   "id": "be7271ed",
   "metadata": {},
   "outputs": [
    {
     "name": "stdout",
     "output_type": "stream",
     "text": [
      "2010\n"
     ]
    }
   ],
   "source": [
    "n_country = []\n",
    "max_year = 0\n",
    "max_country = 0\n",
    "for i in df[\"Year\"].unique():\n",
    "    tmp_df = df[(df['Year'] == i) & (df['Unit'] == \"Tonnes of CO2 equivalent\") \\\n",
    "                 &(~df['COU'].str.contains(\"OECD\")) & (df[\"COU\"] != \"EU27_2020\")]\n",
    "    cur = len(tmp_df[\"COU\"].unique())\n",
    "    n_country.append(cur)\n",
    "    max_year = max_year if cur<max_country else i\n",
    "    max_country = max(max_country, cur)\n",
    "print(max_year)"
   ]
  },
  {
   "cell_type": "code",
   "execution_count": 7,
   "id": "e2634d72",
   "metadata": {},
   "outputs": [],
   "source": [
    "# Filter the data for 2010 (most recent year with data from most number of countries) \n",
    "# and group by country, summing the emissions\n",
    "\n",
    "df_data = df[(df['Year'] == max_year) & (df['Unit'] == \"Tonnes of CO2 equivalent\") \\\n",
    "             & (~df['COU'].str.contains(\"OECD\")) & (df[\"COU\"] != \"EU27_2020\") \\\n",
    "             & (df['Pollutant'] == 'Greenhouse gases')\\\n",
    "             & (df['VAR'] == 'TOTAL')]\n",
    "# grouped_data = df_data.groupby('Country')['Value'].sum().reset_index()\n",
    "\n",
    "# Sort the data and select the top 10 countries by emissions\n",
    "top_10_countries = df_data.nlargest(10, 'Value')\n",
    "\n",
    "# Create the Altair chart\n",
    "earnest_chart = alt.Chart(top_10_countries).mark_bar().encode(\n",
    "    alt.X('Value:Q', axis=alt.Axis(title=\"Tonnes of CO2 equivalent\")),\n",
    "    alt.Y('Country:N', sort='-x', axis=alt.Axis(title='Country')),\n",
    "#     tooltip=['Country', 'Total_Emissions']\n",
    ").properties(\n",
    "    title=f'Top 10 Greenhouse Gas Emitting Countries in {max_year}',\n",
    "    width=600,\n",
    "    height=400\n",
    ")\n",
    "\n",
    "# Display the chart\n",
    "# earnest_chart.show()\n",
    "save(earnest_chart, \"a2_earnest.png\")\n"
   ]
  },
  {
   "cell_type": "code",
   "execution_count": 8,
   "id": "6bcfbb46",
   "metadata": {},
   "outputs": [],
   "source": [
    "# Assuming you have a DataFrame named 'df' with the provided columns\n",
    "\n",
    "# Filter the data for the years between 2010 and 2019 and group by year, summing the emissions\n",
    "time_filtered_data = df[(df['Year'] >= 2013) & (df['Year'] <= 2014) \\\n",
    "                         & (df['Unit'] == \"Tonnes of CO2 equivalent\") \\\n",
    "                         & (~df['COU'].str.contains(\"OECD\")) & (df[\"COU\"] != \"EU27_2020\") \\\n",
    "                         & (df['Pollutant'] == 'Greenhouse gases')\\\n",
    "                         & (df['VAR'] == 'TOTAL')]\n",
    "grouped_data = time_filtered_data.groupby('Year')['Value'].sum().reset_index()\n",
    "\n",
    "# Create the deceptive Altair chart with a misleading y-axis scale\n",
    "deceptive_chart = alt.Chart(grouped_data).mark_bar().encode(\n",
    "    alt.X('Year:N', axis=alt.Axis(title='Year')),\n",
    "    alt.Y('Value:Q',\n",
    "          scale=alt.Scale(domain=[2e7, 5e7]),  # Set a deceptive scale for the y-axis\n",
    "          axis=alt.Axis(title=\"Tonnes of CO2 equivalent\")),\n",
    "    tooltip=['Year', 'Value']\n",
    ").properties(\n",
    "    title='Global Greenhouse Gas Emissions: 2013-2014',\n",
    "    width=600,\n",
    "    height=400\n",
    ")\n",
    "\n",
    "# Display the chart\n",
    "# deceptive_chart.show()\n",
    "deceptive_chart.save('a2_deceptive.png', fmt='png')\n"
   ]
  }
 ],
 "metadata": {
  "kernelspec": {
   "display_name": "Python 3 (ipykernel)",
   "language": "python",
   "name": "python3"
  },
  "language_info": {
   "codemirror_mode": {
    "name": "ipython",
    "version": 3
   },
   "file_extension": ".py",
   "mimetype": "text/x-python",
   "name": "python",
   "nbconvert_exporter": "python",
   "pygments_lexer": "ipython3",
   "version": "3.10.6"
  }
 },
 "nbformat": 4,
 "nbformat_minor": 5
}
